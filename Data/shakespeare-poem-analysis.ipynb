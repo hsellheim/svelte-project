{
 "cells": [
  {
   "cell_type": "code",
   "execution_count": 2,
   "id": "609c4ff1-92f9-476d-97fd-69a44ea8ebff",
   "metadata": {},
   "outputs": [],
   "source": [
    "import pandas as pd\n",
    "import numpy as np"
   ]
  },
  {
   "cell_type": "code",
   "execution_count": 3,
   "id": "aadbb569-1bd7-42ec-aaeb-69cdd9f02058",
   "metadata": {},
   "outputs": [],
   "source": [
    "df = pd.read_csv('shakespeare_poems.csv')"
   ]
  },
  {
   "cell_type": "code",
   "execution_count": 4,
   "id": "55e5b6c5-0d13-4e59-9628-857e2e77e69a",
   "metadata": {},
   "outputs": [
    {
     "data": {
      "text/html": [
       "<div>\n",
       "<style scoped>\n",
       "    .dataframe tbody tr th:only-of-type {\n",
       "        vertical-align: middle;\n",
       "    }\n",
       "\n",
       "    .dataframe tbody tr th {\n",
       "        vertical-align: top;\n",
       "    }\n",
       "\n",
       "    .dataframe thead th {\n",
       "        text-align: right;\n",
       "    }\n",
       "</style>\n",
       "<table border=\"1\" class=\"dataframe\">\n",
       "  <thead>\n",
       "    <tr style=\"text-align: right;\">\n",
       "      <th></th>\n",
       "      <th>title</th>\n",
       "      <th>text</th>\n",
       "    </tr>\n",
       "  </thead>\n",
       "  <tbody>\n",
       "    <tr>\n",
       "      <th>0</th>\n",
       "      <td>Sonnet 1</td>\n",
       "      <td>From fairest creatures we desire increase,\\  T...</td>\n",
       "    </tr>\n",
       "    <tr>\n",
       "      <th>1</th>\n",
       "      <td>Sonnet 2</td>\n",
       "      <td>When forty winters shall besiege thy brow,\\  A...</td>\n",
       "    </tr>\n",
       "    <tr>\n",
       "      <th>2</th>\n",
       "      <td>Sonnet 3</td>\n",
       "      <td>Look in thy glass and tell the face thou viewe...</td>\n",
       "    </tr>\n",
       "    <tr>\n",
       "      <th>3</th>\n",
       "      <td>Sonnet 4</td>\n",
       "      <td>Unthrifty loveliness why dost thou spend,\\  Up...</td>\n",
       "    </tr>\n",
       "    <tr>\n",
       "      <th>4</th>\n",
       "      <td>Sonnet 5</td>\n",
       "      <td>Those hours that with gentle work did frame\\  ...</td>\n",
       "    </tr>\n",
       "  </tbody>\n",
       "</table>\n",
       "</div>"
      ],
      "text/plain": [
       "      title                                               text\n",
       "0  Sonnet 1  From fairest creatures we desire increase,\\  T...\n",
       "1  Sonnet 2  When forty winters shall besiege thy brow,\\  A...\n",
       "2  Sonnet 3  Look in thy glass and tell the face thou viewe...\n",
       "3  Sonnet 4  Unthrifty loveliness why dost thou spend,\\  Up...\n",
       "4  Sonnet 5  Those hours that with gentle work did frame\\  ..."
      ]
     },
     "execution_count": 4,
     "metadata": {},
     "output_type": "execute_result"
    }
   ],
   "source": [
    "df.head()"
   ]
  },
  {
   "cell_type": "code",
   "execution_count": 68,
   "id": "dfeaa2e0-dfae-44b2-a8e9-6ae8066bb32e",
   "metadata": {},
   "outputs": [],
   "source": [
    "red = len(df[df[\"text\"].str.contains(\"red\", case=False)])"
   ]
  },
  {
   "cell_type": "code",
   "execution_count": 69,
   "id": "9aa507f2-e1e9-447f-ba2e-38886c0ad462",
   "metadata": {},
   "outputs": [],
   "source": [
    "blue = len(df[df[\"text\"].str.contains(\"blue|turquoise\", case=False)])"
   ]
  },
  {
   "cell_type": "code",
   "execution_count": 70,
   "id": "1405dca4-2638-4901-af21-f87ee9d25f29",
   "metadata": {},
   "outputs": [],
   "source": [
    "green = len(df[df[\"text\"].str.contains(\"green|teal\", case=False)])"
   ]
  },
  {
   "cell_type": "code",
   "execution_count": 71,
   "id": "34c200ba-d067-4bc4-9f13-5fe56ba26931",
   "metadata": {},
   "outputs": [],
   "source": [
    "yellow = len(df[df[\"text\"].str.contains(\"yellow\", case=False)])"
   ]
  },
  {
   "cell_type": "code",
   "execution_count": 72,
   "id": "04722f20-f437-44b6-a444-8999a85b1b18",
   "metadata": {},
   "outputs": [],
   "source": [
    "orange = len(df[df[\"text\"].str.contains(\"orange\", case=False)])"
   ]
  },
  {
   "cell_type": "code",
   "execution_count": 73,
   "id": "7bb6535b-1d63-47df-9791-142dbdfcbafa",
   "metadata": {},
   "outputs": [],
   "source": [
    "purple = len(df[df[\"text\"].str.contains(\"purple|lilac\", case=False)])"
   ]
  },
  {
   "cell_type": "code",
   "execution_count": 74,
   "id": "38325664-ba1b-4aec-ba46-df0942f0c79d",
   "metadata": {},
   "outputs": [],
   "source": [
    "pink = len(df[df[\"text\"].str.contains(\"pink\", case=False)])"
   ]
  },
  {
   "cell_type": "code",
   "execution_count": 75,
   "id": "c2a2fc51-8271-432a-9f9f-bdeb3f828232",
   "metadata": {},
   "outputs": [],
   "source": [
    "gold = len(df[df[\"text\"].str.contains(\"gold|golden\", case=False)])"
   ]
  },
  {
   "cell_type": "code",
   "execution_count": 76,
   "id": "76b42dd2-43d1-4315-b840-58375a94c279",
   "metadata": {},
   "outputs": [],
   "source": [
    "silver = len(df[df[\"text\"].str.contains(\"silver\", case=False)])"
   ]
  },
  {
   "cell_type": "code",
   "execution_count": 77,
   "id": "0cb1124b-78b3-4c5a-9f24-18c0a13a995b",
   "metadata": {},
   "outputs": [],
   "source": [
    "black = len(df[df[\"text\"].str.contains(\"black\", case=False)])"
   ]
  },
  {
   "cell_type": "code",
   "execution_count": 78,
   "id": "3eba8f13-5ddf-413c-af7d-ce499a10e445",
   "metadata": {},
   "outputs": [],
   "source": [
    "brown = len(df[df[\"text\"].str.contains(\"brown\", case=False)])"
   ]
  },
  {
   "cell_type": "code",
   "execution_count": 79,
   "id": "ee9423d2-91f0-40f5-a603-1298534a6750",
   "metadata": {},
   "outputs": [],
   "source": [
    "grey = len(df[df[\"text\"].str.contains(\"grey|gray\", case=False)])"
   ]
  },
  {
   "cell_type": "code",
   "execution_count": 80,
   "id": "8a4af9bc-e44f-4253-a590-a28e8cb0f555",
   "metadata": {},
   "outputs": [],
   "source": [
    "white = len(df[df[\"text\"].str.contains(\"white\", case=False)])"
   ]
  },
  {
   "cell_type": "code",
   "execution_count": 25,
   "id": "650b2197-4e9e-4b2c-94e0-64c28118f972",
   "metadata": {},
   "outputs": [],
   "source": [
    "df_counts = pd.DataFrame(columns = ['color', 'count'])"
   ]
  },
  {
   "cell_type": "code",
   "execution_count": 26,
   "id": "e394b6ea-5df0-4cef-a756-05835a4cfdb6",
   "metadata": {},
   "outputs": [],
   "source": [
    "df_counts['color'] = ['red', 'blue', 'yellow', 'green', 'black', 'brown', 'grey', 'pink', 'purple', 'orange', 'white', 'gold', 'silver']"
   ]
  },
  {
   "cell_type": "code",
   "execution_count": 81,
   "id": "b90b9b5e-ff48-4a87-a3be-1fa922b1edfa",
   "metadata": {},
   "outputs": [],
   "source": [
    "df_counts['count'] = [red, blue, yellow, green, black, brown, grey, pink, purple, orange, white, gold, silver]"
   ]
  },
  {
   "cell_type": "code",
   "execution_count": 85,
   "id": "0aae979a-0cd8-4286-94e7-d917ba70a7ef",
   "metadata": {},
   "outputs": [],
   "source": [
    "counts_sorted = df_counts.sort_values('count', ascending=False)"
   ]
  },
  {
   "cell_type": "code",
   "execution_count": 86,
   "id": "31cf087c-4ec5-464b-9afa-6a71ba05ad11",
   "metadata": {},
   "outputs": [],
   "source": [
    "counts_sorted.to_csv('shakespeare-color-counts.csv', index=False)"
   ]
  },
  {
   "cell_type": "code",
   "execution_count": null,
   "id": "8eb093c0-c892-467f-9bed-d054390c0235",
   "metadata": {},
   "outputs": [],
   "source": []
  }
 ],
 "metadata": {
  "kernelspec": {
   "display_name": "Python 3 (ipykernel)",
   "language": "python",
   "name": "python3"
  },
  "language_info": {
   "codemirror_mode": {
    "name": "ipython",
    "version": 3
   },
   "file_extension": ".py",
   "mimetype": "text/x-python",
   "name": "python",
   "nbconvert_exporter": "python",
   "pygments_lexer": "ipython3",
   "version": "3.12.10"
  }
 },
 "nbformat": 4,
 "nbformat_minor": 5
}
