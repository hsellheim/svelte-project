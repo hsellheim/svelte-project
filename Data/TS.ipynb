{
 "cells": [
  {
   "cell_type": "markdown",
   "id": "e87a4e44-40b5-44b7-96eb-aa60e8d19d39",
   "metadata": {},
   "source": [
    "Using this API: https://github.com/sarbor/taylor_swift_api\n",
    "documentation: https://bump.sh/sarbor/doc/taylor-swift-api/operation/operation-get-albums"
   ]
  },
  {
   "cell_type": "code",
   "execution_count": 1,
   "id": "ff4b717d-65a8-4ebd-a4e7-2456afcb59ac",
   "metadata": {},
   "outputs": [],
   "source": [
    "import requests\n",
    "\n",
    "response = requests.get(\"https://taylor-swift-api.sarbo.workers.dev/songs\")\n",
    "songs = response.json()"
   ]
  },
  {
   "cell_type": "code",
   "execution_count": 2,
   "id": "cbcfe0a6-49a3-479c-a9b8-cf90b354cbab",
   "metadata": {},
   "outputs": [
    {
     "data": {
      "text/plain": [
       "[{'song_id': 1, 'title': 'Blank Space', 'album_id': 1},\n",
       " {'song_id': 2, 'title': 'Style', 'album_id': 1},\n",
       " {'song_id': 3, 'title': 'Out Of The Woods', 'album_id': 1},\n",
       " {'song_id': 4, 'title': 'All You Had to Do Was Stay', 'album_id': 1},\n",
       " {'song_id': 5, 'title': 'Shake It Off', 'album_id': 1},\n",
       " {'song_id': 6, 'title': 'I Wish You Would', 'album_id': 1},\n",
       " {'song_id': 7, 'title': 'Bad Blood', 'album_id': 1},\n",
       " {'song_id': 8, 'title': 'I Know Places', 'album_id': 1},\n",
       " {'song_id': 9, 'title': 'Clean', 'album_id': 1},\n",
       " {'song_id': 10, 'title': 'Wonderland', 'album_id': 1},\n",
       " {'song_id': 11, 'title': 'You Are in Love', 'album_id': 1},\n",
       " {'song_id': 12, 'title': 'New Romantics', 'album_id': 1},\n",
       " {'song_id': 13, 'title': 'Tim McGraw', 'album_id': 2},\n",
       " {'song_id': 14, 'title': 'Picture to Burn', 'album_id': 2},\n",
       " {'song_id': 15, 'title': 'Teardrops on My Guitar', 'album_id': 2},\n",
       " {'song_id': 16, 'title': 'A Place in This World', 'album_id': 2},\n",
       " {'song_id': 17, 'title': 'Cold as You', 'album_id': 2},\n",
       " {'song_id': 18, 'title': 'The Outside', 'album_id': 2},\n",
       " {'song_id': 19, 'title': 'Tied Together with a Smile', 'album_id': 2},\n",
       " {'song_id': 20, 'title': 'Stay Beautiful', 'album_id': 2},\n",
       " {'song_id': 21, 'title': \"Should\\\\'ve Said No\", 'album_id': 2},\n",
       " {'song_id': 22, 'title': \"Mary\\\\'s Song (Oh My My My)\", 'album_id': 2},\n",
       " {'song_id': 23, 'title': 'Our Song', 'album_id': 2},\n",
       " {'song_id': 24, 'title': \"I\\\\'m Only Me When I\\\\'m With You\", 'album_id': 2},\n",
       " {'song_id': 25, 'title': 'Invisible', 'album_id': 2},\n",
       " {'song_id': 26, 'title': 'A Perfectly Good Heart', 'album_id': 2},\n",
       " {'song_id': 27, 'title': 'Breathe', 'album_id': 3},\n",
       " {'song_id': 28, 'title': 'Love Story', 'album_id': 3},\n",
       " {'song_id': 29, 'title': 'Tell Me Why', 'album_id': 3},\n",
       " {'song_id': 30, 'title': 'The Best Day', 'album_id': 3},\n",
       " {'song_id': 31, 'title': 'Hey Stephen', 'album_id': 3},\n",
       " {'song_id': 32, 'title': 'You Belong with Me', 'album_id': 3},\n",
       " {'song_id': 33, 'title': 'Fifteen', 'album_id': 3},\n",
       " {'song_id': 34, 'title': 'Change', 'album_id': 3},\n",
       " {'song_id': 35, 'title': 'Fearless', 'album_id': 3},\n",
       " {'song_id': 36, 'title': 'Forever & Always', 'album_id': 3},\n",
       " {'song_id': 37, 'title': 'The Way I Loved You', 'album_id': 3},\n",
       " {'song_id': 38, 'title': 'White Horse', 'album_id': 3},\n",
       " {'song_id': 39, 'title': \"You\\\\'re Not Sorry\", 'album_id': 3},\n",
       " {'song_id': 40, 'title': 'Better Than Revenge', 'album_id': 4},\n",
       " {'song_id': 41, 'title': 'Long Live', 'album_id': 4},\n",
       " {'song_id': 42, 'title': 'Sparks Fly', 'album_id': 4},\n",
       " {'song_id': 43, 'title': 'Back To December', 'album_id': 4},\n",
       " {'song_id': 44, 'title': 'Enchanted', 'album_id': 4},\n",
       " {'song_id': 45, 'title': 'The Story Of Us', 'album_id': 4},\n",
       " {'song_id': 46, 'title': 'Mine', 'album_id': 4},\n",
       " {'song_id': 47, 'title': 'Haunted', 'album_id': 4},\n",
       " {'song_id': 48, 'title': 'Dear John', 'album_id': 4},\n",
       " {'song_id': 49, 'title': 'Mean', 'album_id': 4},\n",
       " {'song_id': 50, 'title': 'Innocent', 'album_id': 4},\n",
       " {'song_id': 51, 'title': 'Last Kiss', 'album_id': 4},\n",
       " {'song_id': 52, 'title': 'Never Grow Up', 'album_id': 4},\n",
       " {'song_id': 53, 'title': 'Speak Now', 'album_id': 4},\n",
       " {'song_id': 54, 'title': 'The Last Time (Taylor’s version)', 'album_id': 5},\n",
       " {'song_id': 55, 'title': 'Nothing New (Taylor’s version)', 'album_id': 5},\n",
       " {'song_id': 56,\n",
       "  'title': 'Everything Has Changed (Taylor’s version)',\n",
       "  'album_id': 5},\n",
       " {'song_id': 57,\n",
       "  'title': 'I Bet You Think About Me (Taylor’s version)',\n",
       "  'album_id': 5},\n",
       " {'song_id': 58, 'title': 'Run (Taylor’s version)', 'album_id': 5},\n",
       " {'song_id': 59,\n",
       "  'title': 'The Very First Night (Taylor’s version)',\n",
       "  'album_id': 5},\n",
       " {'song_id': 60, 'title': '22 (Taylor’s version)', 'album_id': 5},\n",
       " {'song_id': 61, 'title': 'State of Grace (Taylor’s version)', 'album_id': 5},\n",
       " {'song_id': 62,\n",
       "  'title': 'Sad Beautiful Tragic (Taylor’s version)',\n",
       "  'album_id': 5},\n",
       " {'song_id': 63, 'title': 'Better Man (Taylor’s version)', 'album_id': 5},\n",
       " {'song_id': 64, 'title': 'I Almost Do (Taylor’s version)', 'album_id': 5},\n",
       " {'song_id': 65, 'title': 'Forever Winter (Taylor’s version)', 'album_id': 5},\n",
       " {'song_id': 66, 'title': 'Ronan (Taylor’s version)', 'album_id': 5},\n",
       " {'song_id': 67, 'title': 'Begin Again (Taylor’s version)', 'album_id': 5},\n",
       " {'song_id': 68, 'title': 'Girl at Home (Taylor’s version)', 'album_id': 5},\n",
       " {'song_id': 69, 'title': 'Red (Taylor’s version)', 'album_id': 5},\n",
       " {'song_id': 70, 'title': 'All Too Well (Taylor’s version)', 'album_id': 5},\n",
       " {'song_id': 71, 'title': 'Holy Ground (Taylor’s version)', 'album_id': 5},\n",
       " {'song_id': 72, 'title': 'Babe (Taylor’s version)', 'album_id': 5},\n",
       " {'song_id': 73, 'title': 'Treacherous (Taylor’s version)', 'album_id': 5},\n",
       " {'song_id': 74, 'title': 'The Lucky One (Taylor’s version)', 'album_id': 5},\n",
       " {'song_id': 75,\n",
       "  'title': 'We Are Never Ever Getting Back Together (Taylor’s version)',\n",
       "  'album_id': 5},\n",
       " {'song_id': 76,\n",
       "  'title': 'Come Back… Be Here (Taylor’s version)',\n",
       "  'album_id': 5},\n",
       " {'song_id': 77,\n",
       "  'title': 'I Knew You Were Trouble (Taylor’s version)',\n",
       "  'album_id': 5},\n",
       " {'song_id': 78,\n",
       "  'title': 'The Moment I Knew (Taylor’s version)',\n",
       "  'album_id': 5},\n",
       " {'song_id': 79, 'title': 'Starlight (Taylor’s version)', 'album_id': 5},\n",
       " {'song_id': 80, 'title': 'Stay Stay Stay (Taylor’s version)', 'album_id': 5},\n",
       " {'song_id': 81,\n",
       "  'title': 'Message in a Bottle (Taylor’s version)',\n",
       "  'album_id': 5},\n",
       " {'song_id': 82,\n",
       "  'title': 'All Too Well (10 minute version) (Taylor’s version)',\n",
       "  'album_id': 5},\n",
       " {'song_id': 83, 'title': 'End Game', 'album_id': 6},\n",
       " {'song_id': 84, 'title': 'Call It What You Want', 'album_id': 6},\n",
       " {'song_id': 85, 'title': 'I Did Something Bad', 'album_id': 6},\n",
       " {'song_id': 86, 'title': \"Don\\\\'t Blame Me\", 'album_id': 6},\n",
       " {'song_id': 87, 'title': '...Ready for It?', 'album_id': 6},\n",
       " {'song_id': 88,\n",
       "  'title': \"This Is Why We Can\\\\'t Have Nice Things\",\n",
       "  'album_id': 6},\n",
       " {'song_id': 89, 'title': 'Dress', 'album_id': 6},\n",
       " {'song_id': 90, 'title': 'King of My Heart', 'album_id': 6},\n",
       " {'song_id': 91, 'title': 'Look What You Made Me Do', 'album_id': 6},\n",
       " {'song_id': 92, 'title': 'Dancing With Our Hands Tied', 'album_id': 6},\n",
       " {'song_id': 93, 'title': 'Gorgeous', 'album_id': 6},\n",
       " {'song_id': 94, 'title': \"New Year\\\\'s Day\", 'album_id': 6},\n",
       " {'song_id': 95, 'title': 'Getaway Car', 'album_id': 6},\n",
       " {'song_id': 96, 'title': 'Delicate', 'album_id': 6},\n",
       " {'song_id': 97, 'title': 'So It Goes…', 'album_id': 6},\n",
       " {'song_id': 98, 'title': 'ME!', 'album_id': 7},\n",
       " {'song_id': 99, 'title': \"Soon You\\\\'ll Get Better\", 'album_id': 7},\n",
       " {'song_id': 100, 'title': 'London Boy', 'album_id': 7},\n",
       " {'song_id': 101, 'title': 'Cornelia Street', 'album_id': 7},\n",
       " {'song_id': 102,\n",
       "  'title': 'Miss Americana & The Heartbreak Prince',\n",
       "  'album_id': 7},\n",
       " {'song_id': 103, 'title': 'Death By A Thousand Cuts', 'album_id': 7},\n",
       " {'song_id': 104, 'title': 'I Forgot That You Existed', 'album_id': 7},\n",
       " {'song_id': 105, 'title': 'Lover', 'album_id': 7},\n",
       " {'song_id': 106, 'title': 'Cruel Summer', 'album_id': 7},\n",
       " {'song_id': 107, 'title': 'I Think He Knows', 'album_id': 7},\n",
       " {'song_id': 108, 'title': 'False God', 'album_id': 7},\n",
       " {'song_id': 109, 'title': 'The Archer', 'album_id': 7},\n",
       " {'song_id': 110, 'title': 'You Need to Calm Down', 'album_id': 7},\n",
       " {'song_id': 111, 'title': 'Paper Rings', 'album_id': 7},\n",
       " {'song_id': 112, 'title': 'The Man', 'album_id': 7},\n",
       " {'song_id': 113, 'title': 'Afterglow', 'album_id': 7},\n",
       " {'song_id': 114, 'title': \"It\\\\'s Nice To Have A Friend\", 'album_id': 7},\n",
       " {'song_id': 115, 'title': 'Daylight', 'album_id': 7},\n",
       " {'song_id': 116, 'title': 'exile', 'album_id': 8},\n",
       " {'song_id': 117, 'title': 'mirrorball', 'album_id': 8},\n",
       " {'song_id': 118, 'title': 'seven', 'album_id': 8},\n",
       " {'song_id': 119, 'title': 'august', 'album_id': 8},\n",
       " {'song_id': 120, 'title': 'mad woman', 'album_id': 8},\n",
       " {'song_id': 121, 'title': 'the last great american dynasty', 'album_id': 8},\n",
       " {'song_id': 122, 'title': 'cardigan', 'album_id': 8},\n",
       " {'song_id': 123, 'title': 'hoax', 'album_id': 8},\n",
       " {'song_id': 124, 'title': 'betty', 'album_id': 8},\n",
       " {'song_id': 125, 'title': 'My Tears Ricochet', 'album_id': 8},\n",
       " {'song_id': 126, 'title': 'peace', 'album_id': 8},\n",
       " {'song_id': 127, 'title': 'the 1', 'album_id': 8},\n",
       " {'song_id': 128, 'title': 'invisible string', 'album_id': 8},\n",
       " {'song_id': 129, 'title': 'this is me trying', 'album_id': 8},\n",
       " {'song_id': 130, 'title': 'epiphany', 'album_id': 8},\n",
       " {'song_id': 131, 'title': 'illicit affairs', 'album_id': 8},\n",
       " {'song_id': 132, 'title': 'coney island', 'album_id': 9},\n",
       " {'song_id': 133, 'title': 'no body, no crime', 'album_id': 9},\n",
       " {'song_id': 134, 'title': 'evermore', 'album_id': 9},\n",
       " {'song_id': 135, 'title': 'long story short', 'album_id': 9},\n",
       " {'song_id': 136, 'title': 'cowboy like me', 'album_id': 9},\n",
       " {'song_id': 137, 'title': 'willow', 'album_id': 9},\n",
       " {'song_id': 138, 'title': 'dorothea', 'album_id': 9},\n",
       " {'song_id': 139, 'title': 'gold rush', 'album_id': 9},\n",
       " {'song_id': 140, 'title': 'closure', 'album_id': 9},\n",
       " {'song_id': 141, 'title': 'tolerate it', 'album_id': 9},\n",
       " {'song_id': 142, 'title': 'champagne problems', 'album_id': 9},\n",
       " {'song_id': 143, 'title': 'marjorie', 'album_id': 9},\n",
       " {'song_id': 144, 'title': '‘tis the damn season', 'album_id': 9},\n",
       " {'song_id': 145, 'title': 'happiness', 'album_id': 9},\n",
       " {'song_id': 146, 'title': 'ivy', 'album_id': 9},\n",
       " {'song_id': 147, 'title': 'Snow on the Beach', 'album_id': 10},\n",
       " {'song_id': 148, 'title': 'Maroon', 'album_id': 10},\n",
       " {'song_id': 149, 'title': 'Bejeweled', 'album_id': 10},\n",
       " {'song_id': 150, 'title': 'Labyrinth', 'album_id': 10},\n",
       " {'song_id': 151, 'title': 'Mastermind', 'album_id': 10},\n",
       " {'song_id': 152, 'title': 'Lavender Haze', 'album_id': 10},\n",
       " {'song_id': 153, 'title': 'Sweet Nothing', 'album_id': 10},\n",
       " {'song_id': 154, 'title': 'Vigilante Shit', 'album_id': 10},\n",
       " {'song_id': 155, 'title': 'Midnight Rain', 'album_id': 10},\n",
       " {'song_id': 156, 'title': 'Karma', 'album_id': 10},\n",
       " {'song_id': 157, 'title': 'Anti-Hero', 'album_id': 10},\n",
       " {'song_id': 158, 'title': 'Question…?', 'album_id': 10},\n",
       " {'song_id': 159, 'title': \"You\\\\'re on Your Own, Kid\", 'album_id': 10},\n",
       " {'song_id': 160, 'title': 'The Great War', 'album_id': 10},\n",
       " {'song_id': 161, 'title': 'High Infidelity', 'album_id': 10},\n",
       " {'song_id': 162,\n",
       "  'title': \"Would\\\\'ve, Could\\\\'ve, Should\\\\'ve\",\n",
       "  'album_id': 10},\n",
       " {'song_id': 163, 'title': 'Bigger Than the Whole Sky', 'album_id': 10},\n",
       " {'song_id': 164, 'title': 'Paris', 'album_id': 10},\n",
       " {'song_id': 165, 'title': 'Glitch', 'album_id': 10},\n",
       " {'song_id': 166, 'title': 'Dear Reader', 'album_id': 10},\n",
       " {'song_id': 167, 'title': 'right where you left me', 'album_id': 9},\n",
       " {'song_id': 168, 'title': \"it\\\\'s time to go\", 'album_id': 9},\n",
       " {'song_id': 169, 'title': 'the lakes', 'album_id': 8},\n",
       " {'song_id': 170, 'title': 'We Were Happy', 'album_id': 3},\n",
       " {'song_id': 171, 'title': 'Mr. Perfectly Fine', 'album_id': 3},\n",
       " {'song_id': 172, 'title': 'You All Over Me', 'album_id': 3},\n",
       " {'song_id': 173, 'title': \"Don\\\\'t You\", 'album_id': 3},\n",
       " {'song_id': 174, 'title': \"That\\\\'s When\", 'album_id': 3},\n",
       " {'song_id': 175, 'title': 'Bye Bye Baby', 'album_id': 3},\n",
       " {'song_id': 176, 'title': 'Hits Different', 'album_id': 10},\n",
       " {'song_id': 177, 'title': \"You\\\\'re Losing Me\", 'album_id': 10},\n",
       " {'song_id': 178, 'title': 'Fortnight', 'album_id': 11},\n",
       " {'song_id': 179, 'title': 'The Tortured Poets Department', 'album_id': 11},\n",
       " {'song_id': 180,\n",
       "  'title': 'My Boy Only Breaks His Favorite Toys',\n",
       "  'album_id': 11},\n",
       " {'song_id': 181, 'title': 'Down Bad', 'album_id': 11},\n",
       " {'song_id': 182, 'title': 'So Long, London', 'album_id': 11},\n",
       " {'song_id': 183, 'title': 'But Daddy I Love Him', 'album_id': 11},\n",
       " {'song_id': 184, 'title': 'Fresh Out the Slammer', 'album_id': 11},\n",
       " {'song_id': 185, 'title': 'Florida!!!', 'album_id': 11},\n",
       " {'song_id': 186, 'title': 'Guilty as Sin?', 'album_id': 11},\n",
       " {'song_id': 187, 'title': \"Who's Afraid of Little Old Me?\", 'album_id': 11},\n",
       " {'song_id': 188, 'title': 'I Can Fix Him (No Really I Can)', 'album_id': 11},\n",
       " {'song_id': 189, 'title': 'loml', 'album_id': 11},\n",
       " {'song_id': 190, 'title': 'I Can Do It with a Broken Heart', 'album_id': 11},\n",
       " {'song_id': 191, 'title': 'The Smallest Man Who Ever Lived', 'album_id': 11},\n",
       " {'song_id': 192, 'title': 'The Alchemy', 'album_id': 11},\n",
       " {'song_id': 193, 'title': 'Clara Bow', 'album_id': 11},\n",
       " {'song_id': 194, 'title': 'The Black Dog', 'album_id': 11},\n",
       " {'song_id': 195, 'title': 'imgonnagetyouback', 'album_id': 11},\n",
       " {'song_id': 196, 'title': 'The Albatross', 'album_id': 11},\n",
       " {'song_id': 197, 'title': 'Chloe or Sam or Sophia or Marcus', 'album_id': 11},\n",
       " {'song_id': 198, 'title': 'How Did It End?', 'album_id': 11},\n",
       " {'song_id': 199, 'title': 'So High School', 'album_id': 11},\n",
       " {'song_id': 200, 'title': 'I Hate It Here', 'album_id': 11},\n",
       " {'song_id': 201, 'title': 'Thank You Aimee', 'album_id': 11},\n",
       " {'song_id': 202, 'title': \"I Look in People's Windows\", 'album_id': 11},\n",
       " {'song_id': 203, 'title': 'The Prophecy', 'album_id': 11},\n",
       " {'song_id': 204, 'title': 'Cassandra', 'album_id': 11},\n",
       " {'song_id': 205, 'title': 'Peter', 'album_id': 11},\n",
       " {'song_id': 206, 'title': 'The Bolter', 'album_id': 11},\n",
       " {'song_id': 207, 'title': 'Robin', 'album_id': 11},\n",
       " {'song_id': 208, 'title': 'The Manuscript', 'album_id': 11}]"
      ]
     },
     "execution_count": 2,
     "metadata": {},
     "output_type": "execute_result"
    }
   ],
   "source": [
    "songs"
   ]
  },
  {
   "cell_type": "code",
   "execution_count": 3,
   "id": "d9f4b5d0-7691-46c9-bc07-dd66cf8bdec4",
   "metadata": {},
   "outputs": [],
   "source": [
    "all_lyrics = []\n",
    "\n",
    "for song in songs:\n",
    "    song_id = song['song_id']\n",
    "    title = song['title']\n",
    "    album_id = song['album_id']\n",
    "\n",
    "    url = f\"https://taylor-swift-api.sarbo.workers.dev/lyrics/{song_id}\"\n",
    "    response = requests.get(url)\n",
    "\n",
    "    if response.status_code == 200:\n",
    "        data = response.json()\n",
    "        if 'lyrics' in data:\n",
    "            all_lyrics.append({'song title': title, 'lyrics': data['lyrics'], 'album id': album_id})"
   ]
  },
  {
   "cell_type": "code",
   "execution_count": 4,
   "id": "7c837b99-50af-4d58-b8a1-dfa78d6431ce",
   "metadata": {},
   "outputs": [],
   "source": [
    "import pandas as pd\n",
    "\n",
    "df = pd.DataFrame(all_lyrics)"
   ]
  },
  {
   "cell_type": "code",
   "execution_count": 5,
   "id": "f2bb39f4-1c0c-4975-ad5b-fd9c0b9ddfad",
   "metadata": {},
   "outputs": [
    {
     "data": {
      "text/html": [
       "<div>\n",
       "<style scoped>\n",
       "    .dataframe tbody tr th:only-of-type {\n",
       "        vertical-align: middle;\n",
       "    }\n",
       "\n",
       "    .dataframe tbody tr th {\n",
       "        vertical-align: top;\n",
       "    }\n",
       "\n",
       "    .dataframe thead th {\n",
       "        text-align: right;\n",
       "    }\n",
       "</style>\n",
       "<table border=\"1\" class=\"dataframe\">\n",
       "  <thead>\n",
       "    <tr style=\"text-align: right;\">\n",
       "      <th></th>\n",
       "      <th>song title</th>\n",
       "      <th>lyrics</th>\n",
       "      <th>album id</th>\n",
       "    </tr>\n",
       "  </thead>\n",
       "  <tbody>\n",
       "    <tr>\n",
       "      <th>0</th>\n",
       "      <td>Blank Space</td>\n",
       "      <td>Nice to meet you where you been\\nI could show ...</td>\n",
       "      <td>1</td>\n",
       "    </tr>\n",
       "    <tr>\n",
       "      <th>1</th>\n",
       "      <td>Style</td>\n",
       "      <td>Midnight\\nYou come and pick me up no headlight...</td>\n",
       "      <td>1</td>\n",
       "    </tr>\n",
       "    <tr>\n",
       "      <th>2</th>\n",
       "      <td>Out Of The Woods</td>\n",
       "      <td>Looking at it now\\nIt all seems so simple\\nWe ...</td>\n",
       "      <td>1</td>\n",
       "    </tr>\n",
       "    <tr>\n",
       "      <th>3</th>\n",
       "      <td>All You Had to Do Was Stay</td>\n",
       "      <td>Hey hey hey\\nHey hey hey\\nHey hey hey\\nHey hey...</td>\n",
       "      <td>1</td>\n",
       "    </tr>\n",
       "    <tr>\n",
       "      <th>4</th>\n",
       "      <td>Shake It Off</td>\n",
       "      <td>I stay out too late\\nGot nothing in my brain\\n...</td>\n",
       "      <td>1</td>\n",
       "    </tr>\n",
       "  </tbody>\n",
       "</table>\n",
       "</div>"
      ],
      "text/plain": [
       "                   song title  \\\n",
       "0                 Blank Space   \n",
       "1                       Style   \n",
       "2            Out Of The Woods   \n",
       "3  All You Had to Do Was Stay   \n",
       "4                Shake It Off   \n",
       "\n",
       "                                              lyrics  album id  \n",
       "0  Nice to meet you where you been\\nI could show ...         1  \n",
       "1  Midnight\\nYou come and pick me up no headlight...         1  \n",
       "2  Looking at it now\\nIt all seems so simple\\nWe ...         1  \n",
       "3  Hey hey hey\\nHey hey hey\\nHey hey hey\\nHey hey...         1  \n",
       "4  I stay out too late\\nGot nothing in my brain\\n...         1  "
      ]
     },
     "execution_count": 5,
     "metadata": {},
     "output_type": "execute_result"
    }
   ],
   "source": [
    "df.head()"
   ]
  },
  {
   "cell_type": "code",
   "execution_count": 6,
   "id": "edb8617d-98b0-44f7-8cf7-afaca1b15538",
   "metadata": {},
   "outputs": [
    {
     "data": {
      "text/plain": [
       "(208, 3)"
      ]
     },
     "execution_count": 6,
     "metadata": {},
     "output_type": "execute_result"
    }
   ],
   "source": [
    "df.shape"
   ]
  },
  {
   "cell_type": "markdown",
   "id": "8418240d-e930-4e64-8ee7-ea2017af9719",
   "metadata": {},
   "source": [
    "Getting rid of the random n's."
   ]
  },
  {
   "cell_type": "code",
   "execution_count": 7,
   "id": "8ab5eda4-a2a7-46b9-aee0-8143e2befc70",
   "metadata": {},
   "outputs": [
    {
     "name": "stderr",
     "output_type": "stream",
     "text": [
      "<>:1: SyntaxWarning: invalid escape sequence '\\ '\n",
      "<>:1: SyntaxWarning: invalid escape sequence '\\ '\n",
      "C:\\Users\\hsell\\AppData\\Local\\Temp\\ipykernel_13540\\3470307937.py:1: SyntaxWarning: invalid escape sequence '\\ '\n",
      "  df['lyrics'] = df['lyrics'].str.replace(\"\\n\", \"\\ \", regex=False)\n"
     ]
    }
   ],
   "source": [
    "df['lyrics'] = df['lyrics'].str.replace(\"\\n\", \"\\ \", regex=False)"
   ]
  },
  {
   "cell_type": "code",
   "execution_count": 8,
   "id": "c2573bc5-554c-4e6a-86b4-033a782a9d03",
   "metadata": {},
   "outputs": [
    {
     "data": {
      "text/html": [
       "<div>\n",
       "<style scoped>\n",
       "    .dataframe tbody tr th:only-of-type {\n",
       "        vertical-align: middle;\n",
       "    }\n",
       "\n",
       "    .dataframe tbody tr th {\n",
       "        vertical-align: top;\n",
       "    }\n",
       "\n",
       "    .dataframe thead th {\n",
       "        text-align: right;\n",
       "    }\n",
       "</style>\n",
       "<table border=\"1\" class=\"dataframe\">\n",
       "  <thead>\n",
       "    <tr style=\"text-align: right;\">\n",
       "      <th></th>\n",
       "      <th>song title</th>\n",
       "      <th>lyrics</th>\n",
       "      <th>album id</th>\n",
       "    </tr>\n",
       "  </thead>\n",
       "  <tbody>\n",
       "    <tr>\n",
       "      <th>0</th>\n",
       "      <td>Blank Space</td>\n",
       "      <td>Nice to meet you where you been\\ I could show ...</td>\n",
       "      <td>1</td>\n",
       "    </tr>\n",
       "    <tr>\n",
       "      <th>1</th>\n",
       "      <td>Style</td>\n",
       "      <td>Midnight\\ You come and pick me up no headlight...</td>\n",
       "      <td>1</td>\n",
       "    </tr>\n",
       "    <tr>\n",
       "      <th>2</th>\n",
       "      <td>Out Of The Woods</td>\n",
       "      <td>Looking at it now\\ It all seems so simple\\ We ...</td>\n",
       "      <td>1</td>\n",
       "    </tr>\n",
       "    <tr>\n",
       "      <th>3</th>\n",
       "      <td>All You Had to Do Was Stay</td>\n",
       "      <td>Hey hey hey\\ Hey hey hey\\ Hey hey hey\\ Hey hey...</td>\n",
       "      <td>1</td>\n",
       "    </tr>\n",
       "    <tr>\n",
       "      <th>4</th>\n",
       "      <td>Shake It Off</td>\n",
       "      <td>I stay out too late\\ Got nothing in my brain\\ ...</td>\n",
       "      <td>1</td>\n",
       "    </tr>\n",
       "  </tbody>\n",
       "</table>\n",
       "</div>"
      ],
      "text/plain": [
       "                   song title  \\\n",
       "0                 Blank Space   \n",
       "1                       Style   \n",
       "2            Out Of The Woods   \n",
       "3  All You Had to Do Was Stay   \n",
       "4                Shake It Off   \n",
       "\n",
       "                                              lyrics  album id  \n",
       "0  Nice to meet you where you been\\ I could show ...         1  \n",
       "1  Midnight\\ You come and pick me up no headlight...         1  \n",
       "2  Looking at it now\\ It all seems so simple\\ We ...         1  \n",
       "3  Hey hey hey\\ Hey hey hey\\ Hey hey hey\\ Hey hey...         1  \n",
       "4  I stay out too late\\ Got nothing in my brain\\ ...         1  "
      ]
     },
     "execution_count": 8,
     "metadata": {},
     "output_type": "execute_result"
    }
   ],
   "source": [
    "df.head()"
   ]
  },
  {
   "cell_type": "markdown",
   "id": "1d59041f-74c5-428e-92a3-47078fecb669",
   "metadata": {},
   "source": [
    "And the \\\\ in some of the song titles."
   ]
  },
  {
   "cell_type": "code",
   "execution_count": 9,
   "id": "65d4ca2e-ac70-4e97-8cba-3340a476cff7",
   "metadata": {},
   "outputs": [],
   "source": [
    "df['song title'] = df['song title'].str.replace(\"\\\\\", \"\", regex=False)"
   ]
  },
  {
   "cell_type": "markdown",
   "id": "859c5ef2-cebd-4e48-b32c-792f32a1633c",
   "metadata": {},
   "source": [
    "Checking if it worked..."
   ]
  },
  {
   "cell_type": "code",
   "execution_count": 10,
   "id": "03ffe234-d6ae-4529-b7c9-40aa79d44c25",
   "metadata": {
    "scrolled": true
   },
   "outputs": [
    {
     "data": {
      "text/plain": [
       "song title                                     You're Losing Me\n",
       "lyrics        You say I dont understand and I say I know you...\n",
       "album id                                                     10\n",
       "Name: 176, dtype: object"
      ]
     },
     "execution_count": 10,
     "metadata": {},
     "output_type": "execute_result"
    }
   ],
   "source": [
    "df.iloc[176]"
   ]
  },
  {
   "cell_type": "markdown",
   "id": "3e48763f-feab-499b-b6b2-1e80c4a92339",
   "metadata": {},
   "source": [
    "Getting rid of the 'Taylor's versions'."
   ]
  },
  {
   "cell_type": "code",
   "execution_count": 11,
   "id": "d8fe320b-488e-4fcf-9e5e-d575456488c0",
   "metadata": {},
   "outputs": [],
   "source": [
    "df['song title'] = df['song title'].str.replace(\"Taylor's version\", \"\", regex=False)"
   ]
  },
  {
   "cell_type": "markdown",
   "id": "4bc54adc-f81a-4d4b-8738-251a133ba4e7",
   "metadata": {},
   "source": [
    "Let's see if it worked"
   ]
  },
  {
   "cell_type": "code",
   "execution_count": 12,
   "id": "c51335f7-5359-411c-a1b8-daacd2378975",
   "metadata": {},
   "outputs": [
    {
     "data": {
      "text/plain": [
       "song title                       Nothing New (Taylor’s version)\n",
       "lyrics        They tell you while youre young\\ Girls go out ...\n",
       "album id                                                      5\n",
       "Name: 54, dtype: object"
      ]
     },
     "execution_count": 12,
     "metadata": {},
     "output_type": "execute_result"
    }
   ],
   "source": [
    "df.iloc[54]"
   ]
  },
  {
   "cell_type": "markdown",
   "id": "ae682d2f-efe4-40df-91b7-388cc8ee5d3b",
   "metadata": {},
   "source": [
    ":("
   ]
  },
  {
   "cell_type": "code",
   "execution_count": 13,
   "id": "c16a10dc-c132-4a78-adbb-2a8f3f025e5c",
   "metadata": {},
   "outputs": [],
   "source": [
    "df['song title'] = df['song title'].str.replace(\"(Taylor’s version)\", \"\", regex=False)"
   ]
  },
  {
   "cell_type": "code",
   "execution_count": 14,
   "id": "b67db4d2-cc26-4243-8ca9-8096f867e8fa",
   "metadata": {},
   "outputs": [
    {
     "data": {
      "text/plain": [
       "song title                                         Nothing New \n",
       "lyrics        They tell you while youre young\\ Girls go out ...\n",
       "album id                                                      5\n",
       "Name: 54, dtype: object"
      ]
     },
     "execution_count": 14,
     "metadata": {},
     "output_type": "execute_result"
    }
   ],
   "source": [
    "df.iloc[54]"
   ]
  },
  {
   "cell_type": "markdown",
   "id": "ba420888-1529-401e-9af8-223fff837ddc",
   "metadata": {},
   "source": [
    ":)"
   ]
  },
  {
   "cell_type": "markdown",
   "id": "1e234e53-78c7-4460-b2fc-05a72372b582",
   "metadata": {},
   "source": [
    "Now I also want the album title in there."
   ]
  },
  {
   "cell_type": "code",
   "execution_count": 15,
   "id": "34e9e3c1-8296-4d39-81d8-df26c165fca5",
   "metadata": {},
   "outputs": [],
   "source": [
    "response = requests.get(\"https://taylor-swift-api.sarbo.workers.dev/albums\")\n",
    "albums = response.json()"
   ]
  },
  {
   "cell_type": "code",
   "execution_count": 16,
   "id": "e2fb277f-a527-4815-9a53-7a1d6161ae26",
   "metadata": {},
   "outputs": [
    {
     "data": {
      "text/plain": [
       "[{'album_id': 1,\n",
       "  'title': '1989',\n",
       "  'artist_id': 1,\n",
       "  'release_date': '2014-10-27'},\n",
       " {'album_id': 2,\n",
       "  'title': 'Taylor Swift',\n",
       "  'artist_id': 1,\n",
       "  'release_date': '2006-10-24'},\n",
       " {'album_id': 3,\n",
       "  'title': 'Fearless',\n",
       "  'artist_id': 1,\n",
       "  'release_date': '2021-04-09'},\n",
       " {'album_id': 4,\n",
       "  'title': 'Speak Now',\n",
       "  'artist_id': 1,\n",
       "  'release_date': '2010-10-25'},\n",
       " {'album_id': 5, 'title': 'Red', 'artist_id': 1, 'release_date': '2021-11-12'},\n",
       " {'album_id': 6,\n",
       "  'title': 'Reputation',\n",
       "  'artist_id': 1,\n",
       "  'release_date': '2017-11-10'},\n",
       " {'album_id': 7,\n",
       "  'title': 'Lover',\n",
       "  'artist_id': 1,\n",
       "  'release_date': '2019-08-23'},\n",
       " {'album_id': 8,\n",
       "  'title': 'Folklore',\n",
       "  'artist_id': 1,\n",
       "  'release_date': '2020-07-24'},\n",
       " {'album_id': 9,\n",
       "  'title': 'Evermore',\n",
       "  'artist_id': 1,\n",
       "  'release_date': '2020-12-11'},\n",
       " {'album_id': 10,\n",
       "  'title': 'Midnights',\n",
       "  'artist_id': 1,\n",
       "  'release_date': '2022-10-21'},\n",
       " {'album_id': 11,\n",
       "  'title': 'The Tortured Poets Department',\n",
       "  'artist_id': 1,\n",
       "  'release_date': '2024-04-19'}]"
      ]
     },
     "execution_count": 16,
     "metadata": {},
     "output_type": "execute_result"
    }
   ],
   "source": [
    "albums"
   ]
  },
  {
   "cell_type": "code",
   "execution_count": 17,
   "id": "ee286329-94c2-43a3-a1a4-5f10ac463967",
   "metadata": {},
   "outputs": [],
   "source": [
    "all_albums = []\n",
    "\n",
    "for album in albums:\n",
    "    title = album['title']\n",
    "    album_id = album['album_id']\n",
    "    release_date = album['release_date']\n",
    "    \n",
    "    all_albums.append({'album title': title, 'release date': release_date, 'album id': album_id})"
   ]
  },
  {
   "cell_type": "code",
   "execution_count": 18,
   "id": "aada68aa-0c0f-45e0-afcc-71fa7311b3f8",
   "metadata": {},
   "outputs": [
    {
     "data": {
      "text/plain": [
       "[{'album title': '1989', 'release date': '2014-10-27', 'album id': 1},\n",
       " {'album title': 'Taylor Swift', 'release date': '2006-10-24', 'album id': 2},\n",
       " {'album title': 'Fearless', 'release date': '2021-04-09', 'album id': 3},\n",
       " {'album title': 'Speak Now', 'release date': '2010-10-25', 'album id': 4},\n",
       " {'album title': 'Red', 'release date': '2021-11-12', 'album id': 5},\n",
       " {'album title': 'Reputation', 'release date': '2017-11-10', 'album id': 6},\n",
       " {'album title': 'Lover', 'release date': '2019-08-23', 'album id': 7},\n",
       " {'album title': 'Folklore', 'release date': '2020-07-24', 'album id': 8},\n",
       " {'album title': 'Evermore', 'release date': '2020-12-11', 'album id': 9},\n",
       " {'album title': 'Midnights', 'release date': '2022-10-21', 'album id': 10},\n",
       " {'album title': 'The Tortured Poets Department',\n",
       "  'release date': '2024-04-19',\n",
       "  'album id': 11}]"
      ]
     },
     "execution_count": 18,
     "metadata": {},
     "output_type": "execute_result"
    }
   ],
   "source": [
    "all_albums"
   ]
  },
  {
   "cell_type": "code",
   "execution_count": 19,
   "id": "fc1cb22b-a7c7-43e8-9faf-e42ba10be6cb",
   "metadata": {},
   "outputs": [],
   "source": [
    "df_albums = pd.DataFrame(all_albums)"
   ]
  },
  {
   "cell_type": "code",
   "execution_count": 20,
   "id": "8a1e77c1-f715-4406-bf3c-59564080a45f",
   "metadata": {},
   "outputs": [
    {
     "data": {
      "text/html": [
       "<div>\n",
       "<style scoped>\n",
       "    .dataframe tbody tr th:only-of-type {\n",
       "        vertical-align: middle;\n",
       "    }\n",
       "\n",
       "    .dataframe tbody tr th {\n",
       "        vertical-align: top;\n",
       "    }\n",
       "\n",
       "    .dataframe thead th {\n",
       "        text-align: right;\n",
       "    }\n",
       "</style>\n",
       "<table border=\"1\" class=\"dataframe\">\n",
       "  <thead>\n",
       "    <tr style=\"text-align: right;\">\n",
       "      <th></th>\n",
       "      <th>album title</th>\n",
       "      <th>release date</th>\n",
       "      <th>album id</th>\n",
       "    </tr>\n",
       "  </thead>\n",
       "  <tbody>\n",
       "    <tr>\n",
       "      <th>0</th>\n",
       "      <td>1989</td>\n",
       "      <td>2014-10-27</td>\n",
       "      <td>1</td>\n",
       "    </tr>\n",
       "    <tr>\n",
       "      <th>1</th>\n",
       "      <td>Taylor Swift</td>\n",
       "      <td>2006-10-24</td>\n",
       "      <td>2</td>\n",
       "    </tr>\n",
       "    <tr>\n",
       "      <th>2</th>\n",
       "      <td>Fearless</td>\n",
       "      <td>2021-04-09</td>\n",
       "      <td>3</td>\n",
       "    </tr>\n",
       "    <tr>\n",
       "      <th>3</th>\n",
       "      <td>Speak Now</td>\n",
       "      <td>2010-10-25</td>\n",
       "      <td>4</td>\n",
       "    </tr>\n",
       "    <tr>\n",
       "      <th>4</th>\n",
       "      <td>Red</td>\n",
       "      <td>2021-11-12</td>\n",
       "      <td>5</td>\n",
       "    </tr>\n",
       "    <tr>\n",
       "      <th>5</th>\n",
       "      <td>Reputation</td>\n",
       "      <td>2017-11-10</td>\n",
       "      <td>6</td>\n",
       "    </tr>\n",
       "    <tr>\n",
       "      <th>6</th>\n",
       "      <td>Lover</td>\n",
       "      <td>2019-08-23</td>\n",
       "      <td>7</td>\n",
       "    </tr>\n",
       "    <tr>\n",
       "      <th>7</th>\n",
       "      <td>Folklore</td>\n",
       "      <td>2020-07-24</td>\n",
       "      <td>8</td>\n",
       "    </tr>\n",
       "    <tr>\n",
       "      <th>8</th>\n",
       "      <td>Evermore</td>\n",
       "      <td>2020-12-11</td>\n",
       "      <td>9</td>\n",
       "    </tr>\n",
       "    <tr>\n",
       "      <th>9</th>\n",
       "      <td>Midnights</td>\n",
       "      <td>2022-10-21</td>\n",
       "      <td>10</td>\n",
       "    </tr>\n",
       "    <tr>\n",
       "      <th>10</th>\n",
       "      <td>The Tortured Poets Department</td>\n",
       "      <td>2024-04-19</td>\n",
       "      <td>11</td>\n",
       "    </tr>\n",
       "  </tbody>\n",
       "</table>\n",
       "</div>"
      ],
      "text/plain": [
       "                      album title release date  album id\n",
       "0                            1989   2014-10-27         1\n",
       "1                    Taylor Swift   2006-10-24         2\n",
       "2                        Fearless   2021-04-09         3\n",
       "3                       Speak Now   2010-10-25         4\n",
       "4                             Red   2021-11-12         5\n",
       "5                      Reputation   2017-11-10         6\n",
       "6                           Lover   2019-08-23         7\n",
       "7                        Folklore   2020-07-24         8\n",
       "8                        Evermore   2020-12-11         9\n",
       "9                       Midnights   2022-10-21        10\n",
       "10  The Tortured Poets Department   2024-04-19        11"
      ]
     },
     "execution_count": 20,
     "metadata": {},
     "output_type": "execute_result"
    }
   ],
   "source": [
    "df_albums"
   ]
  },
  {
   "cell_type": "code",
   "execution_count": 21,
   "id": "b8c33b86-9b4e-4ada-b646-244c77d20181",
   "metadata": {},
   "outputs": [],
   "source": [
    "df_albums[\"release date\"] = df_albums[\"release date\"].str.split(\"-\").str.get(0).str.strip()"
   ]
  },
  {
   "cell_type": "code",
   "execution_count": 22,
   "id": "f13fbf68-603e-4ef1-9d7e-0bfbd372a549",
   "metadata": {},
   "outputs": [
    {
     "data": {
      "text/html": [
       "<div>\n",
       "<style scoped>\n",
       "    .dataframe tbody tr th:only-of-type {\n",
       "        vertical-align: middle;\n",
       "    }\n",
       "\n",
       "    .dataframe tbody tr th {\n",
       "        vertical-align: top;\n",
       "    }\n",
       "\n",
       "    .dataframe thead th {\n",
       "        text-align: right;\n",
       "    }\n",
       "</style>\n",
       "<table border=\"1\" class=\"dataframe\">\n",
       "  <thead>\n",
       "    <tr style=\"text-align: right;\">\n",
       "      <th></th>\n",
       "      <th>album title</th>\n",
       "      <th>release date</th>\n",
       "      <th>album id</th>\n",
       "    </tr>\n",
       "  </thead>\n",
       "  <tbody>\n",
       "    <tr>\n",
       "      <th>0</th>\n",
       "      <td>1989</td>\n",
       "      <td>2014</td>\n",
       "      <td>1</td>\n",
       "    </tr>\n",
       "    <tr>\n",
       "      <th>1</th>\n",
       "      <td>Taylor Swift</td>\n",
       "      <td>2006</td>\n",
       "      <td>2</td>\n",
       "    </tr>\n",
       "    <tr>\n",
       "      <th>2</th>\n",
       "      <td>Fearless</td>\n",
       "      <td>2021</td>\n",
       "      <td>3</td>\n",
       "    </tr>\n",
       "    <tr>\n",
       "      <th>3</th>\n",
       "      <td>Speak Now</td>\n",
       "      <td>2010</td>\n",
       "      <td>4</td>\n",
       "    </tr>\n",
       "    <tr>\n",
       "      <th>4</th>\n",
       "      <td>Red</td>\n",
       "      <td>2021</td>\n",
       "      <td>5</td>\n",
       "    </tr>\n",
       "    <tr>\n",
       "      <th>5</th>\n",
       "      <td>Reputation</td>\n",
       "      <td>2017</td>\n",
       "      <td>6</td>\n",
       "    </tr>\n",
       "    <tr>\n",
       "      <th>6</th>\n",
       "      <td>Lover</td>\n",
       "      <td>2019</td>\n",
       "      <td>7</td>\n",
       "    </tr>\n",
       "    <tr>\n",
       "      <th>7</th>\n",
       "      <td>Folklore</td>\n",
       "      <td>2020</td>\n",
       "      <td>8</td>\n",
       "    </tr>\n",
       "    <tr>\n",
       "      <th>8</th>\n",
       "      <td>Evermore</td>\n",
       "      <td>2020</td>\n",
       "      <td>9</td>\n",
       "    </tr>\n",
       "    <tr>\n",
       "      <th>9</th>\n",
       "      <td>Midnights</td>\n",
       "      <td>2022</td>\n",
       "      <td>10</td>\n",
       "    </tr>\n",
       "    <tr>\n",
       "      <th>10</th>\n",
       "      <td>The Tortured Poets Department</td>\n",
       "      <td>2024</td>\n",
       "      <td>11</td>\n",
       "    </tr>\n",
       "  </tbody>\n",
       "</table>\n",
       "</div>"
      ],
      "text/plain": [
       "                      album title release date  album id\n",
       "0                            1989         2014         1\n",
       "1                    Taylor Swift         2006         2\n",
       "2                        Fearless         2021         3\n",
       "3                       Speak Now         2010         4\n",
       "4                             Red         2021         5\n",
       "5                      Reputation         2017         6\n",
       "6                           Lover         2019         7\n",
       "7                        Folklore         2020         8\n",
       "8                        Evermore         2020         9\n",
       "9                       Midnights         2022        10\n",
       "10  The Tortured Poets Department         2024        11"
      ]
     },
     "execution_count": 22,
     "metadata": {},
     "output_type": "execute_result"
    }
   ],
   "source": [
    "df_albums"
   ]
  },
  {
   "cell_type": "markdown",
   "id": "44306952-3783-4125-9de9-61788349d383",
   "metadata": {},
   "source": [
    "This isn't great because it's showing the release date of the 'Taylor's Version' for some of them, but not all. I want the original release date so I'm changing this. "
   ]
  },
  {
   "cell_type": "code",
   "execution_count": 23,
   "id": "d1423dfb-67b1-4c9d-bb4e-9b2fc33c65e5",
   "metadata": {},
   "outputs": [],
   "source": [
    "df_albums.loc[2, 'release date'] = 2008"
   ]
  },
  {
   "cell_type": "code",
   "execution_count": 24,
   "id": "c535691b-ad0d-4424-9f66-133ce40181db",
   "metadata": {},
   "outputs": [],
   "source": [
    "df_albums.loc[4, 'release date'] = 2012"
   ]
  },
  {
   "cell_type": "code",
   "execution_count": 25,
   "id": "f20658ea-24f0-46ed-b253-f11b535f97ed",
   "metadata": {},
   "outputs": [
    {
     "data": {
      "text/html": [
       "<div>\n",
       "<style scoped>\n",
       "    .dataframe tbody tr th:only-of-type {\n",
       "        vertical-align: middle;\n",
       "    }\n",
       "\n",
       "    .dataframe tbody tr th {\n",
       "        vertical-align: top;\n",
       "    }\n",
       "\n",
       "    .dataframe thead th {\n",
       "        text-align: right;\n",
       "    }\n",
       "</style>\n",
       "<table border=\"1\" class=\"dataframe\">\n",
       "  <thead>\n",
       "    <tr style=\"text-align: right;\">\n",
       "      <th></th>\n",
       "      <th>album title</th>\n",
       "      <th>release date</th>\n",
       "      <th>album id</th>\n",
       "    </tr>\n",
       "  </thead>\n",
       "  <tbody>\n",
       "    <tr>\n",
       "      <th>0</th>\n",
       "      <td>1989</td>\n",
       "      <td>2014</td>\n",
       "      <td>1</td>\n",
       "    </tr>\n",
       "    <tr>\n",
       "      <th>1</th>\n",
       "      <td>Taylor Swift</td>\n",
       "      <td>2006</td>\n",
       "      <td>2</td>\n",
       "    </tr>\n",
       "    <tr>\n",
       "      <th>2</th>\n",
       "      <td>Fearless</td>\n",
       "      <td>2008</td>\n",
       "      <td>3</td>\n",
       "    </tr>\n",
       "    <tr>\n",
       "      <th>3</th>\n",
       "      <td>Speak Now</td>\n",
       "      <td>2010</td>\n",
       "      <td>4</td>\n",
       "    </tr>\n",
       "    <tr>\n",
       "      <th>4</th>\n",
       "      <td>Red</td>\n",
       "      <td>2012</td>\n",
       "      <td>5</td>\n",
       "    </tr>\n",
       "    <tr>\n",
       "      <th>5</th>\n",
       "      <td>Reputation</td>\n",
       "      <td>2017</td>\n",
       "      <td>6</td>\n",
       "    </tr>\n",
       "    <tr>\n",
       "      <th>6</th>\n",
       "      <td>Lover</td>\n",
       "      <td>2019</td>\n",
       "      <td>7</td>\n",
       "    </tr>\n",
       "    <tr>\n",
       "      <th>7</th>\n",
       "      <td>Folklore</td>\n",
       "      <td>2020</td>\n",
       "      <td>8</td>\n",
       "    </tr>\n",
       "    <tr>\n",
       "      <th>8</th>\n",
       "      <td>Evermore</td>\n",
       "      <td>2020</td>\n",
       "      <td>9</td>\n",
       "    </tr>\n",
       "    <tr>\n",
       "      <th>9</th>\n",
       "      <td>Midnights</td>\n",
       "      <td>2022</td>\n",
       "      <td>10</td>\n",
       "    </tr>\n",
       "    <tr>\n",
       "      <th>10</th>\n",
       "      <td>The Tortured Poets Department</td>\n",
       "      <td>2024</td>\n",
       "      <td>11</td>\n",
       "    </tr>\n",
       "  </tbody>\n",
       "</table>\n",
       "</div>"
      ],
      "text/plain": [
       "                      album title release date  album id\n",
       "0                            1989         2014         1\n",
       "1                    Taylor Swift         2006         2\n",
       "2                        Fearless         2008         3\n",
       "3                       Speak Now         2010         4\n",
       "4                             Red         2012         5\n",
       "5                      Reputation         2017         6\n",
       "6                           Lover         2019         7\n",
       "7                        Folklore         2020         8\n",
       "8                        Evermore         2020         9\n",
       "9                       Midnights         2022        10\n",
       "10  The Tortured Poets Department         2024        11"
      ]
     },
     "execution_count": 25,
     "metadata": {},
     "output_type": "execute_result"
    }
   ],
   "source": [
    "df_albums"
   ]
  },
  {
   "cell_type": "markdown",
   "id": "38889d62-09f3-4060-a032-d4f3ae756415",
   "metadata": {},
   "source": [
    "(Also no idea why the IDs are not in order, but whatever...)"
   ]
  },
  {
   "cell_type": "code",
   "execution_count": 26,
   "id": "d9262908-efac-47b8-9957-7913a891342a",
   "metadata": {},
   "outputs": [],
   "source": [
    "df_whole = df.merge(df_albums, on='album id')"
   ]
  },
  {
   "cell_type": "code",
   "execution_count": 27,
   "id": "1bb53537-f7c9-4047-a2b2-43d2208939f5",
   "metadata": {},
   "outputs": [
    {
     "data": {
      "text/html": [
       "<div>\n",
       "<style scoped>\n",
       "    .dataframe tbody tr th:only-of-type {\n",
       "        vertical-align: middle;\n",
       "    }\n",
       "\n",
       "    .dataframe tbody tr th {\n",
       "        vertical-align: top;\n",
       "    }\n",
       "\n",
       "    .dataframe thead th {\n",
       "        text-align: right;\n",
       "    }\n",
       "</style>\n",
       "<table border=\"1\" class=\"dataframe\">\n",
       "  <thead>\n",
       "    <tr style=\"text-align: right;\">\n",
       "      <th></th>\n",
       "      <th>song title</th>\n",
       "      <th>lyrics</th>\n",
       "      <th>album id</th>\n",
       "      <th>album title</th>\n",
       "      <th>release date</th>\n",
       "    </tr>\n",
       "  </thead>\n",
       "  <tbody>\n",
       "    <tr>\n",
       "      <th>0</th>\n",
       "      <td>Blank Space</td>\n",
       "      <td>Nice to meet you where you been\\ I could show ...</td>\n",
       "      <td>1</td>\n",
       "      <td>1989</td>\n",
       "      <td>2014</td>\n",
       "    </tr>\n",
       "    <tr>\n",
       "      <th>1</th>\n",
       "      <td>Style</td>\n",
       "      <td>Midnight\\ You come and pick me up no headlight...</td>\n",
       "      <td>1</td>\n",
       "      <td>1989</td>\n",
       "      <td>2014</td>\n",
       "    </tr>\n",
       "    <tr>\n",
       "      <th>2</th>\n",
       "      <td>Out Of The Woods</td>\n",
       "      <td>Looking at it now\\ It all seems so simple\\ We ...</td>\n",
       "      <td>1</td>\n",
       "      <td>1989</td>\n",
       "      <td>2014</td>\n",
       "    </tr>\n",
       "    <tr>\n",
       "      <th>3</th>\n",
       "      <td>All You Had to Do Was Stay</td>\n",
       "      <td>Hey hey hey\\ Hey hey hey\\ Hey hey hey\\ Hey hey...</td>\n",
       "      <td>1</td>\n",
       "      <td>1989</td>\n",
       "      <td>2014</td>\n",
       "    </tr>\n",
       "    <tr>\n",
       "      <th>4</th>\n",
       "      <td>Shake It Off</td>\n",
       "      <td>I stay out too late\\ Got nothing in my brain\\ ...</td>\n",
       "      <td>1</td>\n",
       "      <td>1989</td>\n",
       "      <td>2014</td>\n",
       "    </tr>\n",
       "  </tbody>\n",
       "</table>\n",
       "</div>"
      ],
      "text/plain": [
       "                   song title  \\\n",
       "0                 Blank Space   \n",
       "1                       Style   \n",
       "2            Out Of The Woods   \n",
       "3  All You Had to Do Was Stay   \n",
       "4                Shake It Off   \n",
       "\n",
       "                                              lyrics  album id album title  \\\n",
       "0  Nice to meet you where you been\\ I could show ...         1        1989   \n",
       "1  Midnight\\ You come and pick me up no headlight...         1        1989   \n",
       "2  Looking at it now\\ It all seems so simple\\ We ...         1        1989   \n",
       "3  Hey hey hey\\ Hey hey hey\\ Hey hey hey\\ Hey hey...         1        1989   \n",
       "4  I stay out too late\\ Got nothing in my brain\\ ...         1        1989   \n",
       "\n",
       "  release date  \n",
       "0         2014  \n",
       "1         2014  \n",
       "2         2014  \n",
       "3         2014  \n",
       "4         2014  "
      ]
     },
     "execution_count": 27,
     "metadata": {},
     "output_type": "execute_result"
    }
   ],
   "source": [
    "df_whole.head()"
   ]
  },
  {
   "cell_type": "code",
   "execution_count": 28,
   "id": "ba079283-1bf0-4dbc-9140-74e6073fa75e",
   "metadata": {},
   "outputs": [],
   "source": [
    "df_whole.to_excel('ts_lyrics.xlsx', index=False)"
   ]
  },
  {
   "cell_type": "code",
   "execution_count": null,
   "id": "38dee5b0-dfee-4b61-82e6-52f094aabf6c",
   "metadata": {},
   "outputs": [],
   "source": []
  }
 ],
 "metadata": {
  "kernelspec": {
   "display_name": "Python 3 (ipykernel)",
   "language": "python",
   "name": "python3"
  },
  "language_info": {
   "codemirror_mode": {
    "name": "ipython",
    "version": 3
   },
   "file_extension": ".py",
   "mimetype": "text/x-python",
   "name": "python",
   "nbconvert_exporter": "python",
   "pygments_lexer": "ipython3",
   "version": "3.12.10"
  }
 },
 "nbformat": 4,
 "nbformat_minor": 5
}
